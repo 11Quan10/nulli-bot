{
 "cells": [
  {
   "cell_type": "code",
   "execution_count": 14,
   "id": "293cba5f",
   "metadata": {},
   "outputs": [
    {
     "name": "stderr",
     "output_type": "stream",
     "text": [
      "Device set to use cuda:0\n"
     ]
    }
   ],
   "source": [
    "import torch\n",
    "from transformers import pipeline\n",
    "from transformers.utils import is_flash_attn_2_available\n",
    "\n",
    "pipe = pipeline(\n",
    "    \"automatic-speech-recognition\",\n",
    "    model=\"openai/whisper-large-v3-turbo\", # select checkpoint from https://huggingface.co/openai/whisper-large-v3#model-details\n",
    "    torch_dtype=torch.float16,\n",
    "    device=torch.device(\"cuda:0\"), # or mps for Mac devices\n",
    "    model_kwargs={\"attn_implementation\": \"flash_attention_2\"} if is_flash_attn_2_available() else {\"attn_implementation\": \"sdpa\"},\n",
    ")"
   ]
  },
  {
   "cell_type": "code",
   "execution_count": 17,
   "id": "b46ebd6f",
   "metadata": {},
   "outputs": [
    {
     "name": "stderr",
     "output_type": "stream",
     "text": [
      "c:\\Users\\quanp\\Documents\\GitHub\\quadbot\\.venv\\Lib\\site-packages\\transformers\\models\\whisper\\generation_whisper.py:573: FutureWarning: The input name `inputs` is deprecated. Please make sure to use `input_features` instead.\n",
      "  warnings.warn(\n"
     ]
    },
    {
     "data": {
      "text/plain": [
       "{'text': \" my heart's a stereo it beats for you so listen close hear my thoughts in every note make me your radio and turn me up when you feel low\",\n",
       " 'chunks': [{'timestamp': (0.0, 2.62), 'text': \" my heart's a stereo\"},\n",
       "  {'timestamp': (2.62, 4.98), 'text': ' it beats for you so listen close'},\n",
       "  {'timestamp': (4.98, 7.12), 'text': ' hear my thoughts in every note'},\n",
       "  {'timestamp': (7.12, 9.68), 'text': ' make me your radio'},\n",
       "  {'timestamp': (9.68, 11.84), 'text': ' and turn me up when you feel low'}]}"
      ]
     },
     "execution_count": 17,
     "metadata": {},
     "output_type": "execute_result"
    }
   ],
   "source": [
    "outputs = pipe(\n",
    "    \"..\\\\assets\\\\397652992050069505-output.wav\",\n",
    "    chunk_length_s=30,\n",
    "    batch_size=24,\n",
    "    return_timestamps=True,\n",
    ")\n",
    "\n",
    "outputs"
   ]
  }
 ],
 "metadata": {
  "kernelspec": {
   "display_name": ".venv",
   "language": "python",
   "name": "python3"
  },
  "language_info": {
   "codemirror_mode": {
    "name": "ipython",
    "version": 3
   },
   "file_extension": ".py",
   "mimetype": "text/x-python",
   "name": "python",
   "nbconvert_exporter": "python",
   "pygments_lexer": "ipython3",
   "version": "3.12.0"
  }
 },
 "nbformat": 4,
 "nbformat_minor": 5
}
