{
  "nbformat": 4,
  "nbformat_minor": 0,
  "metadata": {
    "colab": {
      "provenance": [],
      "gpuType": "T4"
    },
    "kernelspec": {
      "name": "python3",
      "display_name": "Python 3"
    },
    "language_info": {
      "name": "python"
    },
    "accelerator": "GPU"
  },
  "cells": [
    {
      "cell_type": "code",
      "source": [
        "%cd /content\n",
        "!rm -rf nulli-bot/"
      ],
      "metadata": {
        "id": "59WiIEk7kGG0"
      },
      "execution_count": null,
      "outputs": []
    },
    {
      "cell_type": "code",
      "execution_count": null,
      "metadata": {
        "id": "s6uyj48xQLk5"
      },
      "outputs": [],
      "source": [
        "!git clone https://github.com/11Quan10/nulli-bot.git"
      ]
    },
    {
      "cell_type": "code",
      "source": [
        "!pip install python-dotenv discord.py[voice]"
      ],
      "metadata": {
        "id": "eMhcTao0QT0k"
      },
      "execution_count": null,
      "outputs": []
    },
    {
      "cell_type": "code",
      "source": [
        "!pip install langchain langgraph langsmith langchain-community langchain_ollama langchain-qdrant fastembed duckduckgo-search"
      ],
      "metadata": {
        "collapsed": true,
        "id": "_Rf-Ka_FQeVF"
      },
      "execution_count": null,
      "outputs": []
    },
    {
      "cell_type": "code",
      "source": [
        "!pip install SpeechRecognition pydub deepfilternet\n",
        "!pip install torch torchvision torchaudio --index-url https://download.pytorch.org/whl/cu121\n",
        "!pip install --upgrade transformers optimum accelerate\n",
        "!pip install git+https://github.com/imayhaveborkedit/discord-ext-voice-recv"
      ],
      "metadata": {
        "collapsed": true,
        "id": "h2N2338kQfuz"
      },
      "execution_count": null,
      "outputs": []
    },
    {
      "cell_type": "code",
      "source": [
        "!pip install -q \"kokoro>=0.9.4\" soundfile\n",
        "!pip install pyrubberband misaki[ja]\n",
        "!python -m unidic download"
      ],
      "metadata": {
        "collapsed": true,
        "id": "Lvo4KQV5QiXS"
      },
      "execution_count": null,
      "outputs": []
    },
    {
      "cell_type": "code",
      "source": [
        "!pip install \"unsloth @ git+https://github.com/unslothai/unsloth.git\""
      ],
      "metadata": {
        "collapsed": true,
        "id": "UP2AAStpQn1w"
      },
      "execution_count": null,
      "outputs": []
    },
    {
      "cell_type": "code",
      "source": [
        "!apt-get update\n",
        "!apt-get install -y ffmpeg\n",
        "!apt-get install -y rubberband-cli\n",
        "!pip install pyrubberband"
      ],
      "metadata": {
        "collapsed": true,
        "id": "xpJhWT7hRpSf"
      },
      "execution_count": null,
      "outputs": []
    },
    {
      "cell_type": "code",
      "source": [
        "!pip install colab-xterm\n",
        "!curl -fsSL https://ollama.com/install.sh | sh\n",
        "%load_ext colabxterm"
      ],
      "metadata": {
        "collapsed": true,
        "id": "16eLaiHHPS51"
      },
      "execution_count": null,
      "outputs": []
    },
    {
      "cell_type": "code",
      "source": [
        "%reload_ext colabxterm"
      ],
      "metadata": {
        "id": "RT0Cky7eQ_C6"
      },
      "execution_count": null,
      "outputs": []
    },
    {
      "cell_type": "code",
      "source": [
        "%xterm\n",
        "# follow the instructions below to start ollama\n",
        "# > tmux\n",
        "# ctrl + b then % (Shift + 5) to create a new terminal, do this three times for a total of four terminals\n",
        "# use ctrl + b then arrow keys to move between terminals\n",
        "\n",
        "# run the following commands, one in each of the first three terminals\n",
        "# > OLLAMA_HOST=localhost:11434 OLLAMA_NUM_PARALLEL=2 OLLAMA_KEEP_ALIVE=-1 OLLAMA_FLASH_ATTENTION=1 ollama serve\n",
        "# > OLLAMA_HOST=localhost:11435 OLLAMA_KEEP_ALIVE=-1 OLLAMA_FLASH_ATTENTION=1 ollama serve\n",
        "# > OLLAMA_HOST=localhost:11436 OLLAMA_KEEP_ALIVE=-1 OLLAMA_FLASH_ATTENTION=1 ollama serve\n",
        "\n",
        "# run the following commands in the last terminal\n",
        "# > ollama pull llama3.2:3b-instruct-q4_K_M\n",
        "# > ollama pull llama-guard3:1b"
      ],
      "metadata": {
        "id": "guHNP2cAPWUs"
      },
      "execution_count": null,
      "outputs": []
    },
    {
      "cell_type": "code",
      "source": [
        "import os\n",
        "# @markdown Required settings:\n",
        "DISCORD_BOT_TOKEN = \"\"  # @param {type:\"string\"}\n",
        "LANGSMITH_API_KEY = \"\"  # @param {type:\"string\"}\n",
        "\n",
        "# adjust other parameters as necessary\n",
        "env_content = f\"\"\"\n",
        "DISCORD_BOT_TOKEN={DISCORD_BOT_TOKEN}\n",
        "LANGSMITH_ENDPOINT=\"https://api.smith.langchain.com\"\n",
        "LANGSMITH_API_KEY={LANGSMITH_API_KEY}\n",
        "LANGSMITH_PROJECT=\"default2\"\n",
        "PROJECT_ROOT=/content/nulli-bot/src\n",
        "\"\"\"\n",
        "\n",
        "with open('/content/nulli-bot/src/.env', 'w') as env_file:\n",
        "    env_file.write(env_content)"
      ],
      "metadata": {
        "id": "Xu6zndCZSrwk"
      },
      "execution_count": null,
      "outputs": []
    },
    {
      "cell_type": "code",
      "source": [
        "%cd nulli-bot\n",
        "!python src/nulli.py"
      ],
      "metadata": {
        "id": "6S7k4LH5ULIh"
      },
      "execution_count": null,
      "outputs": []
    },
    {
      "cell_type": "code",
      "source": [],
      "metadata": {
        "id": "F-_mlSc_gzd0"
      },
      "execution_count": null,
      "outputs": []
    }
  ]
}